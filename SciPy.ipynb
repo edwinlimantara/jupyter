{
 "cells": [
  {
   "cell_type": "markdown",
   "metadata": {},
   "source": [
    "# NumPy"
   ]
  },
  {
   "cell_type": "code",
   "execution_count": 1,
   "metadata": {
    "collapsed": true
   },
   "outputs": [],
   "source": [
    "import numpy as np"
   ]
  },
  {
   "cell_type": "markdown",
   "metadata": {},
   "source": [
    "### Array Creation"
   ]
  },
  {
   "cell_type": "code",
   "execution_count": 48,
   "metadata": {},
   "outputs": [
    {
     "name": "stdout",
     "output_type": "stream",
     "text": [
      "A: \n",
      "[[ 0  1  2]\n",
      " [ 3  4  5]\n",
      " [ 6  7  8]\n",
      " [ 9 10 11]]\n",
      "\n",
      "B: \n",
      "[[10 15 20]\n",
      " [25 30 35]\n",
      " [40 45 50]\n",
      " [55 60 65]]\n"
     ]
    }
   ],
   "source": [
    "A = np.arange(12).reshape(4, 3)\n",
    "B = np.arange(10, 70, 5).reshape(4, 3) # 10 <= x < 70. Increment by 5\n",
    "\n",
    "print('A: \\n{}\\n'.format(A))\n",
    "print('B: \\n{}'.format(B))"
   ]
  },
  {
   "cell_type": "markdown",
   "metadata": {},
   "source": [
    "### Array Properties"
   ]
  },
  {
   "cell_type": "code",
   "execution_count": 28,
   "metadata": {},
   "outputs": [
    {
     "name": "stdout",
     "output_type": "stream",
     "text": [
      "A.ndim: 2\n",
      "Dimension of the array (i.e., 2d array\n",
      "\n",
      "A.shape: (4, 3)\n",
      "\n",
      "A.size: 12\n",
      "\n"
     ]
    }
   ],
   "source": [
    "print('A.ndim: {}\\nDimension of the array (i.e., 2d array\\n'.format(A.ndim))\n",
    "print('A.shape: {}\\n'.format(A.shape))\n",
    "print('A.size: {}'.format(A.size))"
   ]
  },
  {
   "cell_type": "markdown",
   "metadata": {},
   "source": [
    "### Array Operations"
   ]
  },
  {
   "cell_type": "code",
   "execution_count": 63,
   "metadata": {},
   "outputs": [
    {
     "name": "stdout",
     "output_type": "stream",
     "text": [
      "A^2: \n",
      "[[  0   1   4]\n",
      " [  9  16  25]\n",
      " [ 36  49  64]\n",
      " [ 81 100 121]]\n",
      "\n",
      "C = B - A: \n",
      "[[10 14 18]\n",
      " [22 26 30]\n",
      " [34 38 42]\n",
      " [46 50 54]]\n",
      "\n",
      "C^T: \n",
      "[[10 22 34 46]\n",
      " [14 26 38 50]\n",
      " [18 30 42 54]]\n",
      "\n",
      "C x C^T: \n",
      "[[ 620 1124 1628 2132]\n",
      " [1124 2060 2996 3932]\n",
      " [1628 2996 4364 5732]\n",
      " [2132 3932 5732 7532]]\n",
      "\n",
      "a_0 . b_0: 55\n",
      "\n",
      "C.sum(): 384\n",
      "\n",
      "C.min(): 10\n",
      "\n",
      "C.max(): 54\n"
     ]
    }
   ],
   "source": [
    "print('A^2: \\n{}\\n'.format(A**2))\n",
    "C = B - A\n",
    "print('C = B - A: \\n{}\\n'.format(C))\n",
    "print('C^T: \\n{}\\n'.format(C.T))\n",
    "print('C x C^T: \\n{}\\n'.format(np.dot(C, C.T)))\n",
    "print('a_0 . b_0: {}\\n'.format(np.dot(A[0], B[0])))\n",
    "print('C.sum(): {}\\n'.format(C.sum()))\n",
    "print('C.min(): {}\\n'.format(C.min()))\n",
    "print('C.max(): {}'.format(C.max()))"
   ]
  },
  {
   "cell_type": "markdown",
   "metadata": {},
   "source": [
    "### Indexing, Slicing, Iterating"
   ]
  },
  {
   "cell_type": "code",
   "execution_count": 72,
   "metadata": {},
   "outputs": [
    {
     "name": "stdout",
     "output_type": "stream",
     "text": [
      "A: \n",
      "[[ 0  1  2]\n",
      " [ 3  4  5]\n",
      " [ 6  7  8]\n",
      " [ 9 10 11]]\n",
      "\n",
      "A[0]: \n",
      "[0 1 2]\n",
      "\n",
      "A[2:,[0]]: \n",
      "[[ 2]\n",
      " [ 5]\n",
      " [ 8]\n",
      " [11]]\n",
      "\n",
      "A[0:-1]: \n",
      "[[0 1 2]\n",
      " [3 4 5]\n",
      " [6 7 8]]\n",
      "\n"
     ]
    }
   ],
   "source": [
    "print('A: \\n{}\\n'.format(A))\n",
    "print('A[0]: \\n{}\\n'.format(A[0]))\n",
    "print('A[2:,[0]]: \\n{}\\n'.format(A[:,[2]]))\n",
    "print('A[0:-1]: \\n{}\\n'.format(A[0:-1]))"
   ]
  }
 ],
 "metadata": {
  "kernelspec": {
   "display_name": "Python 3",
   "language": "python",
   "name": "python3"
  },
  "language_info": {
   "codemirror_mode": {
    "name": "ipython",
    "version": 3
   },
   "file_extension": ".py",
   "mimetype": "text/x-python",
   "name": "python",
   "nbconvert_exporter": "python",
   "pygments_lexer": "ipython3",
   "version": "3.6.3"
  }
 },
 "nbformat": 4,
 "nbformat_minor": 2
}
